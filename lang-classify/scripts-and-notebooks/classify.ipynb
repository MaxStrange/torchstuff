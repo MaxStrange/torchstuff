{
 "cells": [
  {
   "cell_type": "code",
   "execution_count": 4,
   "metadata": {},
   "outputs": [],
   "source": [
    "import os"
   ]
  },
  {
   "cell_type": "code",
   "execution_count": 10,
   "metadata": {},
   "outputs": [],
   "source": [
    "# Get the files of interest\n",
    "dpath = \"./samples-for-experimenting/english\"\n",
    "\n",
    "# File names, including extensions; not paths\n",
    "wavfnames = [fp for fp in os.listdir(dpath) if fp.endswith(\".wav\")]\n",
    "\n",
    "# File paths, including extensions\n",
    "wavfpaths = [os.path.abspath(os.path.join(dpath, fname)) for fname in wavfnames]\n",
    "\n",
    "# Names, no extensions; not paths\n",
    "wavnames = [os.path.splitext(fp)[0] for fp in wavfnames]\n",
    "\n",
    "# Dictionary of names pointing to paths\n",
    "wavnames_to_paths = {name: path for name, path in zip(wavnames, wavfpaths)}"
   ]
  },
  {
   "cell_type": "code",
   "execution_count": 8,
   "metadata": {},
   "outputs": [
    {
     "data": {
      "text/plain": "{'sample-000186': 'they were fascinating stories each of them lived out his destiny to the end',\n 'sample-000406': 'artificial neural networks can do something very similar',\n 'sample-002976': \"are you sure there's no mistake\"}"
     },
     "execution_count": 8,
     "metadata": {},
     "output_type": "execute_result"
    }
   ],
   "source": [
    "# Get the transcriptions for the files\n",
    "csvfpath = \"./samples-for-experimenting/english/cv-valid-dev.csv\"\n",
    "transcriptions = {}\n",
    "with open(csvfpath) as f:\n",
    "    for line in f.readlines():\n",
    "        for name in wavnames:\n",
    "            if name in line:\n",
    "                transcriptions[name] = line.strip().split(',')[-1]\n",
    "transcriptions"
   ]
  },
  {
   "cell_type": "code",
   "execution_count": null,
   "metadata": {},
   "outputs": [],
   "source": []
  }
 ],
 "metadata": {
  "kernelspec": {
   "display_name": "Python 3",
   "language": "python",
   "name": "python3"
  },
  "language_info": {
   "codemirror_mode": {
    "name": "ipython",
    "version": 3
   },
   "file_extension": ".py",
   "mimetype": "text/x-python",
   "name": "python",
   "nbconvert_exporter": "python",
   "pygments_lexer": "ipython3",
   "version": "3.8.1-final"
  }
 },
 "nbformat": 4,
 "nbformat_minor": 4
}